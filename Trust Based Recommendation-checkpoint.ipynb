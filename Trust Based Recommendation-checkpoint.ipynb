{
 "cells": [
  {
   "cell_type": "code",
   "execution_count": 2,
   "id": "5bc3a69f-91b5-44f2-b51a-137bacd33d5d",
   "metadata": {},
   "outputs": [],
   "source": [
    "import numba as nb\n",
    "import pandas as pd\n",
    "import numpy as np"
   ]
  },
  {
   "cell_type": "code",
   "execution_count": null,
   "id": "1e6c9eba-1f1d-4442-96e4-9c5c50542718",
   "metadata": {},
   "outputs": [],
   "source": []
  },
  {
   "cell_type": "markdown",
   "id": "5ab89dcb-2d7a-465c-ac16-7eed2ec9b0a7",
   "metadata": {},
   "source": [
    "## Calculate Similarity"
   ]
  },
  {
   "cell_type": "code",
   "execution_count": 12,
   "id": "0a2d7e57-c33e-4256-a56c-ded2ded9853b",
   "metadata": {},
   "outputs": [],
   "source": [
    "def calculate_similarity(user_item_matrix):\n",
    "    def precompute_metrics(user_item_matrix):\n",
    "        PCC = no.corrcoef(user_item_matrix)\n",
    "        DistanceMatrix = calculate_distance(user_item_matrix)\n",
    "        return PCC, DistanceMatrix\n",
    "    numerator = 2* PCC * DistanceMatrix\n",
    "    denominator= PCC + DistanceMatrix\n",
    "    SimilarityMatrix = np.where(PCC > 0, numerator/denominator ,0)\n",
    "    PositiveCountSimilarity = np.count_nonzero(similaritymatrix, 0)\n",
    "    simthreshold = np.sum(SimilarityMatrix, axis=0)/PositiveCountSimilarity\n",
    "    similarity_dict = {'similarity':similarity_matrix , 'threshold': simthreshold}\n",
    "    return similarity_dict"
   ]
  },
  {
   "cell_type": "markdown",
   "id": "1f457aec-1789-4d00-ace7-ecea116ca609",
   "metadata": {},
   "source": [
    "## Calculate Confidence"
   ]
  },
  {
   "cell_type": "code",
   "execution_count": 6,
   "id": "7ed89e54-4631-4c8c-985a-07d434b69f90",
   "metadata": {},
   "outputs": [],
   "source": [
    "def calculate_confidence(user_item_matrix, similarity_dict):\n",
    "    similarity_matrix = similarity_dict['similarity']\n",
    "    similarity_threshold = similarity_dict['threshold']\n",
    "\n",
    "    count_of_neighbors_for_user = np.sum(similarity_matrix >= sim_threshold, axis=1)\n",
    "    count_of_rated_items_for_user = np.sum(user_item_matrix != 0, axis=1)\n",
    "    count_of_neighbors_for_user[count_of_neighbors_for_user==0] = 1\n",
    "    count_of_rated_items_for_user[count_of_rated_items_for_user==0] =1\n",
    "    \n",
    "    NumberUser = len(user_ids)\n",
    "\n",
    "    common_similar_users_count_matrix = np.sum((similarity_matrix[:,None,:] >= sim_threshold) &\n",
    "                                               (similarity_matrix[None,:,:] >= sim_threshold), axis =2)\n",
    "    common_rated_items_count_matrix = np.sum((user_item_matrix[:,None,:] != 0) &\n",
    "                                               (user_item_matrix[None,:,:] != 0), axis =2)\n",
    "\n",
    "    common_similar_neighbors_ratio_matrix = common_similar_users_count_matrix/ count_of_neighbors_for_user\n",
    "    common_rated_items_ratio_matrix = common_rated_items_count_matrix/count_of_rated_items_for_user\n",
    "\n",
    "    confidence_matrix = np.zeros((NumberUser, NumberUser))\n",
    "\n",
    "    for i in range(NumberUser):\n",
    "        for j in range(NumberUser):\n",
    "            if i!=j:\n",
    "                common_similar_neighbors_ratio= common_similar_neighbors_ratio_matrix[i,j]\n",
    "                common_rated_items_ratio= common_rated_items_ratio_matrix[i,j]\n",
    "                confidence_matrix[i,j] =(common_similar_neighbors_ratio + common_rated_items_ratio)\n",
    "\n",
    "    positive_count_of_confidence_row= np.count_nonzero(confidence_matrix, axis=0)\n",
    "    conf_threshold= np.sum(confidence_matrix, axis= 0)/positive_count_of_confidence_row\n",
    "\n",
    "    confidence_dict= {'confidence': confidence_matrix , 'threshold': conf_threshold}\n",
    "    return confidence_dict"
   ]
  },
  {
   "cell_type": "markdown",
   "id": "36115b9b-ed34-4292-86f5-ae1564be2cdc",
   "metadata": {},
   "source": [
    "## Calculate Identical Opinion"
   ]
  },
  {
   "cell_type": "code",
   "execution_count": 10,
   "id": "a2625dc8-87e2-45e7-b101-17cd399213ee",
   "metadata": {},
   "outputs": [],
   "source": [
    "def calculate_identical_opinion(user_item_matrix, similarity_dict, confidence_dict):\n",
    "    \n",
    "    @nb.njit\n",
    "    def calculate_sameness_ratio(data_i, data_j, threshold_i, threshold_j , epsilon):\n",
    "        mask_i =data_i > threshold_i\n",
    "        mask_j = data_j>threhold_j\n",
    "\n",
    "        intersect_items=np.intersect1d(np.where(mask_i)[0], np.where(mask_j)[0])\n",
    "        common_simi_count= len(intersect_items)\n",
    "\n",
    "        if common_simi_count>0:\n",
    "            same_simi_value_count = np.count_nonzero((data_i[intersect_items])-(data_j[intersect_items])<=epsilon)\n",
    "            sameness_ratio =same_simi_value_count/common_simi_count\n",
    "        else:\n",
    "            sameness_ratio=0\n",
    "\n",
    "        return sameness_ratio\n",
    "\n",
    "    similarity_matrix, sim_threshold = similarity_dict['similarity'], similarity_dict['threshold']\n",
    "    confidence_matrix, confidence_threshold = confidence_dict['similarity'], confidence_dict['threshold']\n",
    "\n",
    "    epsilon=0.1\n",
    "    NumberUser= len(user_ids)\n",
    "    identical_opinions =np.zeros((NumberUser, NumberUser))\n",
    "\n",
    "    for i in range(NumberUser):\n",
    "        for j in range(NumberUser):\n",
    "            if i!=j:\n",
    "                similarity_sameness_ratio= calculate_sameness_ratio(similarity_matrix[i], similarity_matrix[j], sim_threhold[i], sim_threhold[j], epsilon)\n",
    "                confidence_sameness_ratio = calculate_sameness_ratio(confidenc_matrix[i],confidenc_matrix[j],sim_threshold[i], sim_threshold[j], epsilon)\n",
    "                rating_sameness_ratio= calculate_sameness_ratio(user_item_matrix[i], user_item_matrix[j],0,0, epsilon)\n",
    "                identical_opinion[i,j] = (similarity_sameness_ratio +confidence_sameness_ratio+rating_sameness_ratio)/3\n",
    "\n",
    "    positive_count_of_identopinion_row= np.count_nonzero(identical_opinion,axis=0)\n",
    "    identopinion_threshold =np.sum(identical_opinion, axis=0)/positive_count_of_identopinion_row\n",
    "\n",
    "    identical_opinion_dict={'opinion': identical_opinion, 'threshold': identopinion_threshold}\n",
    "\n",
    "    return identical_opinion_dict"
   ]
  },
  {
   "cell_type": "markdown",
   "id": "b798c54d-951b-4a70-a41c-53dff38f3b8f",
   "metadata": {},
   "source": [
    "## Generate Incipient Trust"
   ]
  },
  {
   "cell_type": "code",
   "execution_count": null,
   "id": "91e9eeb1-486f-4fb2-b292-b5194dd4796a",
   "metadata": {},
   "outputs": [],
   "source": [
    "def generate_incipient_trust(similarity_dict, confidence_dict, identical_opinion_dict):\n",
    "    def calculate_direct_trust(similarity_dict, confidence_dict, identical_opinion_dict):\n",
    "        similarity, sim_threhsold = similarity_dict['similarity'], similarity_dict['threshold']\n",
    "        confidence, conf_threshold = confidence_dict['confidence'], confidence_dict['threshold']\n",
    "        opinion, opin_threshold=identical_opinion_dict['opinion'], identical_opinion_dict['threshold']\n",
    "\n",
    "        direct_trust = np.zeros_like(similarity)\n",
    "        num_rows, num_cols = similarity.shape\n",
    "\n",
    "        for i in range(num_rows):\n",
    "            for j in range(num_cols):\n",
    "                sim_val= similarity[i,j]\n",
    "                conf_val = confidence[i,j]\n",
    "                opinion_val= opinion[i,j]\n",
    "                s_val=sim_threhsold[i]\n",
    "                c_val=conf_threshold[i]\n",
    "                o_val=opin_threshold[i]\n",
    "\n",
    "                if sim_val>= s_val:\n",
    "                    if conf_val>= c_val:\n",
    "                        if opinion_val >=o_val:\n",
    "                            denominator= sim_val + conf_val+opinion_val\n",
    "                            direct_trust[i,j]= (3*(sim_val*conf_val*opinion_val))/denominator\n",
    "                        else:\n",
    "                            denominator= sim_val + conf_val\n",
    "                            direct_trust[i,j]=(2*(sim_val*conf_val))/denominator\n",
    "                    else:\n",
    "                        if opinion_val>=o_val:\n",
    "                            denominator = sim_val+opinion_val\n",
    "                            direct_trust[i,j]=(2*(sim_val*opinion_val))/denominator\n",
    "                else:\n",
    "                    if conf_val>=c_val:\n",
    "                        if opinion_val<=o_val:\n",
    "                            denominator = conf_val+opinion_val\n",
    "                            direct_trust[i,j]=(2*(conf_val*opinion_val))/denominator\n",
    "        positive_counts_per_row = np.sum(direct_trust>0, axis=0)\n",
    "        dt_threshold= np.sum(direct_trust,axis=0)/np.maximum(positive_counts_per_row,1)\n",
    "        return direct_trust, dt_threshold\n",
    "    @nb.njit\n",
    "    def propagate_direct_trust(direct_trust, dt_threshold):\n",
    "        num_users=direct_trust.shape[0]\n",
    "        propagated_trust = np.zeros((num_users,num_users))\n",
    "        for i in range(num_users):\n",
    "            for j in range(num_users):\n",
    "                if i!=j:\n",
    "                    dt_i_u = direct_trust[i,:]\n",
    "                    dt_u_j = direct_trust[:,j]\n",
    "                    threshold_i= dt_threshold[i]\n",
    "                    threshold_j = dt_treshold[j]\n",
    "\n",
    "                    co_trust_sum=0\n",
    "                    co_trust_count = 0\n",
    "\n",
    "\n",
    "        def calculate_incipient_trust(direct_trust, propagated_trust):\n",
    "            non_zero_direct = direct_trust>0\n",
    "            non_zero_propgated= propagated_trust>0\n",
    "\n",
    "            numerator= np.where(non_zero_direct & non_zero_propagated,direct_trust*propagated_trust,0)\n",
    "\n",
    "            denominator = direct_trust + propagated_trust\n",
    "            nonzero_denominator = denominator >0\n",
    "\n",
    "            intrust= np.where(nonzero_denominator, np.divide(numerator, denominator, out=np.zeros_like(denominator), where=nonzero_denominator),\n",
    "                             np.where(non_zero_direct, propagated_trust, np.where(non_zero_propagated, direct_trust,0)))\n",
    "            return np.sqrt(intrust)\n",
    "\n",
    "        NumberUser = len(user_ids)\n",
    "\n",
    "\n",
    "        direct_trust, dt_threshold= calculate_direct_trust(similarity_dict, confidence_dict, identical_opinion_dict)\n",
    "        propagated_trust=propagate_direct_trust(direct_trust, dt_threshold)\n",
    "        incipient_trust = calculate_incipient_trust(direct_trust, propagated_trust)\n",
    "        inctrust_trust_dict = incipient_trust >= inctrust_threshold\n",
    "        incipient_trust_dict = {'trust': incipient_trust, 'threshold': inctrust_threshold, 'network': inctrust_net}\n",
    "    \n",
    "        return incipient_trust_dict\n",
    "            \n",
    "            \n",
    "            \n",
    "                    \n",
    "                            "
   ]
  },
  {
   "cell_type": "code",
   "execution_count": 12,
   "id": "71c962ad-bd6e-4962-af4f-e4afb1be33d9",
   "metadata": {},
   "outputs": [],
   "source": [
    "def prepare_evaluation_data(user_ids, user_item_df, incipient_trust_dict):\n",
    "    def test_train_split(user_item_df, k_folds):\n",
    "        kf = Kfold(n_split= k_folds, shuffle= True, random_state=42)\n",
    "        for train_index, test_index in kf.split(user_item_df):\n",
    "            train_indices, test_indices = train_index, test_index\n",
    "            train_data, test_data = user_item_df.iloc[train_indices], user_item_df.iloc[test_indices]\n",
    "        return train_data, test_data\n",
    "\n",
    "    train_data, test_data = test_train_split(user_item_df, k_folds=5)\n",
    "    trust_df = pd.DataFrame(index = user_ids, columns = user_ids, data=incipient_trust_dict['trust'])\n",
    "    test_trustees = trust_df.loc[test_data.index][train_data.index]\n",
    "    test_trustees = np.array(test_trustees)\n",
    "\n",
    "    train_data = np.array(train_data)\n",
    "    test_data =np.array(test_data)\n",
    "\n",
    "    return train_data, test_data, test_trustees"
   ]
  },
  {
   "cell_type": "code",
   "execution_count": null,
   "id": "31ae4b62-2f55-460b-b17c-5c5c73dfe101",
   "metadata": {},
   "outputs": [],
   "source": [
    "\n",
    "    "
   ]
  },
  {
   "cell_type": "code",
   "execution_count": 3,
   "id": "ddb4d308-2aac-4f49-ab99-9fde2689e18f",
   "metadata": {},
   "outputs": [],
   "source": [
    "def create_user_item_df(df):\n",
    "    user_item_df = df.pivot(index='userId', columns='movieId', values='rating')\n",
    "    return user_item_df.fillna(0)"
   ]
  },
  {
   "cell_type": "markdown",
   "id": "aa7d1637-8f18-48a4-abea-d149964054b8",
   "metadata": {},
   "source": [
    "## Main Function"
   ]
  },
  {
   "cell_type": "code",
   "execution_count": 5,
   "id": "b31cfe15-ae4c-4dd1-baf9-c13ca201e730",
   "metadata": {},
   "outputs": [],
   "source": [
    "def main():\n",
    "    df = pd.read_csv(r'C:\\Users\\dagas\\OneDrive\\Desktop\\Dataset\\ratings.csv')\n",
    "    movie_ids= np.sort(df['movieID'].unique())\n",
    "    global user_ids\n",
    "    user_ids = np.sort(df['userID'].unique())\n",
    "\n",
    "    global MaxRating, MinRating\n",
    "    MaxRating, MinRating = 5,1\n",
    "\n",
    "    start_time=time.time()\n",
    "    user_item_df = create_user_item_df(df)\n",
    "    user_item_matrix = user_item_df.to_numpy()\n",
    "    similarity_dict =calculate_similarity(user_item_matrix)\n",
    "    confidence_dict = calculate_confidence(user_item_matrix, similarity_dict)\n",
    "    identical_opinion_dict = calculate_identical_opinion(user_item_matrix, similarity_dict, confidence_dict)\n",
    "    incipient_trust_dict = generate_incipient_trust(similarity_dict, confidence_dict, identical_opinion_dict)\n",
    "    return user_item_df"
   ]
  },
  {
   "cell_type": "code",
   "execution_count": null,
   "id": "b2893348-d96b-40ae-b83a-cf782dfb4422",
   "metadata": {},
   "outputs": [],
   "source": []
  },
  {
   "cell_type": "code",
   "execution_count": null,
   "id": "d0bca0ba-0844-4610-86f9-3cf84275dd4c",
   "metadata": {},
   "outputs": [],
   "source": []
  }
 ],
 "metadata": {
  "kernelspec": {
   "display_name": "Python 3 (ipykernel)",
   "language": "python",
   "name": "python3"
  },
  "language_info": {
   "codemirror_mode": {
    "name": "ipython",
    "version": 3
   },
   "file_extension": ".py",
   "mimetype": "text/x-python",
   "name": "python",
   "nbconvert_exporter": "python",
   "pygments_lexer": "ipython3",
   "version": "3.12.4"
  }
 },
 "nbformat": 4,
 "nbformat_minor": 5
}
